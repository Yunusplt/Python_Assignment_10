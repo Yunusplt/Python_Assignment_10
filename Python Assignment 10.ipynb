{
 "cells": [
  {
   "cell_type": "markdown",
   "metadata": {},
   "source": [
    "# Task : \n",
    "Estimating the risk of death from coronavirus. Write a program that;\n",
    "\n",
    "Takes \"Yes\" or \"No\" from the user as an answer to the following questions :\n",
    "\n",
    "Are you a cigarette addict older than 75 years old? Variable → age\n",
    "\n",
    "Do you have a severe chronic disease? Variable → chronic\n",
    "\n",
    "Is your immune system too weak? Variable → immune\n",
    "\n",
    "Set a logical algorithm using boolean logic operators (and/or) and use if-statements with the given variables in order to print out us a message : \"You are in risky group\"(if True ) or \"You are not in risky group\" (if False).\n",
    "\n",
    "\n",
    "\n",
    "age =  # can be assigned only True/False\n",
    "chronic =  # can be assigned only True/False\n",
    "immune =  # can be assigned only True/False\n",
    "risk = ?"
   ]
  },
  {
   "cell_type": "code",
   "execution_count": null,
   "metadata": {},
   "outputs": [],
   "source": []
  },
  {
   "cell_type": "code",
   "execution_count": 7,
   "metadata": {},
   "outputs": [
    {
     "name": "stdout",
     "output_type": "stream",
     "text": [
      "Are you a cigarette addict older than 75 years old?: false\n",
      "Do you have a severe chronic disease?false\n",
      "Is your immune system too weak?false\n",
      "False\n"
     ]
    }
   ],
   "source": [
    "age = input(\"Are you a cigarette addict older than 75 years old?: \").title().strip()\n",
    "chronic = input(\"Do you have a severe chronic disease?\").title().strip()\n",
    "immune = input(\"Is your immune system too weak?\").title().strip()\n",
    "\n",
    "if age == \"Yes\":\n",
    "    age = True\n",
    "else:\n",
    "    age = False\n",
    "\n",
    "    \n",
    "if chronic == \"Yes\":\n",
    "    chronic = True\n",
    "else:\n",
    "    chronic = False\n",
    "\n",
    "\n",
    "if immune == \"Yes\":\n",
    "    immune = True\n",
    "else:\n",
    "    immune = False\n",
    "    \n",
    "risk = age and chronic or immune\n",
    "print(risk)"
   ]
  },
  {
   "cell_type": "code",
   "execution_count": null,
   "metadata": {},
   "outputs": [],
   "source": []
  },
  {
   "cell_type": "code",
   "execution_count": null,
   "metadata": {},
   "outputs": [],
   "source": []
  },
  {
   "cell_type": "code",
   "execution_count": null,
   "metadata": {},
   "outputs": [],
   "source": []
  },
  {
   "cell_type": "code",
   "execution_count": null,
   "metadata": {},
   "outputs": [],
   "source": []
  },
  {
   "cell_type": "code",
   "execution_count": null,
   "metadata": {},
   "outputs": [],
   "source": []
  }
 ],
 "metadata": {
  "kernelspec": {
   "display_name": "Python 3",
   "language": "python",
   "name": "python3"
  },
  "language_info": {
   "codemirror_mode": {
    "name": "ipython",
    "version": 3
   },
   "file_extension": ".py",
   "mimetype": "text/x-python",
   "name": "python",
   "nbconvert_exporter": "python",
   "pygments_lexer": "ipython3",
   "version": "3.7.6"
  }
 },
 "nbformat": 4,
 "nbformat_minor": 4
}
